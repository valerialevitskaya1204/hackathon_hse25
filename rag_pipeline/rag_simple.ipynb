{
 "cells": [
  {
   "cell_type": "code",
   "execution_count": 1,
   "id": "c2bbd140-b40f-48c2-992d-a488cc4a998b",
   "metadata": {},
   "outputs": [
    {
     "name": "stderr",
     "output_type": "stream",
     "text": [
      "[nltk_data] Downloading package punkt to\n",
      "[nltk_data]     C:\\Users\\valer\\AppData\\Roaming\\nltk_data...\n",
      "[nltk_data]   Unzipping tokenizers\\punkt.zip.\n",
      "[nltk_data] Downloading package averaged_perceptron_tagger to\n",
      "[nltk_data]     C:\\Users\\valer\\AppData\\Roaming\\nltk_data...\n",
      "[nltk_data]   Unzipping taggers\\averaged_perceptron_tagger.zip.\n"
     ]
    }
   ],
   "source": [
    "import json\n",
    "import os\n",
    "from typing import Callable, Dict, List\n",
    "import nltk\n",
    "import pandas as pd\n",
    "nltk.download(\"punkt\")\n",
    "nltk.download(\"averaged_perceptron_tagger\")\n",
    "\n",
    "from pathlib import Path\n",
    "from langchain.chains import RetrievalQA\n",
    "from langchain.chat_models.gigachat import GigaChat\n",
    "from langchain.docstore.document import Document\n",
    "from langchain.prompts import ChatPromptTemplate\n",
    "from langchain.text_splitter import TokenTextSplitter\n",
    "from langchain.vectorstores import Chroma\n",
    "from langchain_community.document_loaders import Docx2txtLoader, PyPDFLoader\n",
    "from langchain_community.embeddings.gigachat import GigaChatEmbeddings\n",
    "from langchain.retrievers import ContextualCompressionRetriever\n",
    "from langchain.retrievers.document_compressors import LLMChainExtractor"
   ]
  },
  {
   "cell_type": "code",
   "execution_count": 2,
   "id": "5479572a-b931-40f0-bbb6-17d29dc6e5d1",
   "metadata": {},
   "outputs": [],
   "source": [
    "import warnings\n",
    "warnings.filterwarnings(\"ignore\")"
   ]
  },
  {
   "cell_type": "code",
   "execution_count": 3,
   "id": "1e3bf0da-1601-49bb-9b21-ddd347eb1ae9",
   "metadata": {},
   "outputs": [],
   "source": [
    "import os\n",
    "ROOT = os.getcwd()\n",
    "\n",
    "import sys"
   ]
  },
  {
   "cell_type": "markdown",
   "id": "dc04ef69-abe9-4c14-981d-1ad8e174bd10",
   "metadata": {},
   "source": [
    "# VectorDB"
   ]
  },
  {
   "cell_type": "code",
   "execution_count": 4,
   "id": "a0b3ab4b",
   "metadata": {},
   "outputs": [],
   "source": [
    "def load_chroma(persist_directory, embeddings):\n",
    "    \"\"\"\n",
    "    Загружай хрому, если обучил\n",
    "    \"\"\"\n",
    "    assert os.path.isdir(persist_directory), \"Firstly use create_vectordb func\"\n",
    "\n",
    "    return Chroma(\n",
    "        persist_directory=persist_directory, embedding_function=embeddings\n",
    "    )\n",
    "   "
   ]
  },
  {
   "cell_type": "code",
   "execution_count": 5,
   "id": "567fcf5b",
   "metadata": {},
   "outputs": [],
   "source": [
    "from langchain_huggingface.embeddings import HuggingFaceEmbeddings\n",
    "\n",
    "model_kwargs = {'device': 'cpu'}\n",
    "encode_kwargs = {'normalize_embeddings': True}\n",
    "\n",
    "embeddings_e5 = HuggingFaceEmbeddings(\n",
    "    model_name=\"intfloat/multilingual-e5-large\",\n",
    "    model_kwargs = model_kwargs,\n",
    "    encode_kwargs=encode_kwargs,\n",
    ")\n"
   ]
  },
  {
   "cell_type": "code",
   "execution_count": 7,
   "id": "4f63e850-ddb3-4897-a89e-807ea2822376",
   "metadata": {},
   "outputs": [],
   "source": [
    "vectordb=load_chroma(os.path.join(ROOT, \"chroma\"), embeddings_e5)"
   ]
  },
  {
   "cell_type": "markdown",
   "id": "c17cc380-19a5-41bd-8f2f-3528e4242e9a",
   "metadata": {},
   "source": [
    "# GET ANSWER"
   ]
  },
  {
   "cell_type": "code",
   "execution_count": 8,
   "id": "3f10258a",
   "metadata": {},
   "outputs": [],
   "source": [
    "import yaml \n",
    "\n",
    "def load_yaml(path_to_config: str) -> dict:\n",
    "    with open(path_to_config, \"r\") as f:\n",
    "        config = yaml.safe_load(f)\n",
    "    return config"
   ]
  },
  {
   "cell_type": "code",
   "execution_count": 9,
   "id": "3ebd3ce5-9eb6-4520-bf5b-30eeb17d0cf7",
   "metadata": {},
   "outputs": [],
   "source": [
    "def create_qa_pipeline(llm, vectordb):\n",
    "    \n",
    "    system_prompt = load_yaml(\"config/system_prompt.yaml\")\n",
    "    messages = [(\"system\", system_prompt[\"system_template\"]), (\"human\", system_prompt[\"user_template\"])]\n",
    "    \n",
    "    QA_CHAIN_PROMPT = ChatPromptTemplate.from_messages(messages,)\n",
    "    retriever = vectordb.as_retriever(search_type=\"mmr\", search_kwargs={\"k\":4, \"fetch_k\":20, \"lambda\":.6})\n",
    "    compressor = LLMChainExtractor.from_llm(llm)\n",
    "    compression_retriever = ContextualCompressionRetriever(\n",
    "        base_compressor=compressor, base_retriever=retriever\n",
    "    )\n",
    "    \n",
    "    qa_chain = RetrievalQA.from_chain_type(\n",
    "        llm,\n",
    "        retriever=compression_retriever,\n",
    "        return_source_documents=True,\n",
    "        chain_type_kwargs={\"prompt\": QA_CHAIN_PROMPT},\n",
    "    )\n",
    "    return qa_chain"
   ]
  },
  {
   "cell_type": "code",
   "execution_count": 10,
   "id": "d78e226f-405a-41f5-89f3-922940a52c02",
   "metadata": {},
   "outputs": [],
   "source": [
    "def generate_answer(question, llm, vectordb):\n",
    "    \"\"\"\n",
    "    Метод генерации ответов на вопросы.\n",
    "    Прогоняем на тестовом сете.\n",
    "    \"\"\"\n",
    "    qa_chain=create_qa_pipeline(llm, vectordb)\n",
    "        \n",
    "    result = qa_chain({\"query\": question})\n",
    "        \n",
    "    return result['result'], result['source_documents']"
   ]
  },
  {
   "cell_type": "markdown",
   "id": "27f9c16c",
   "metadata": {},
   "source": [
    "## Чтобы запустить пайплайн "
   ]
  },
  {
   "cell_type": "code",
   "execution_count": null,
   "id": "c29d0679-08eb-4cfc-baaa-e98474cef273",
   "metadata": {},
   "outputs": [],
   "source": [
    "from tqdm import tqdm\n",
    "\n",
    "#вместо llm надо подсунуть вашу модель, обернутую в соответствующий формат. \n",
    "#q - вопрос\n",
    "#vectordb определена выше\n",
    "#функция возвращает ответ и документы на основе которых модель давала ответ. \n",
    "# вы их сохраняете куда-то, потом используйте функции в папке prepocess_calculate чтобы распарсить как нужно\n",
    "# https://python.langchain.com/docs/integrations/llms/\n",
    "# https://python.langchain.com/docs/integrations/providers/huggingface/\n",
    "\n",
    "answ, source = generate_answer(q, llm, vectordb)\n",
    "     "
   ]
  }
 ],
 "metadata": {
  "kernelspec": {
   "display_name": ".venv",
   "language": "python",
   "name": "python3"
  },
  "language_info": {
   "codemirror_mode": {
    "name": "ipython",
    "version": 3
   },
   "file_extension": ".py",
   "mimetype": "text/x-python",
   "name": "python",
   "nbconvert_exporter": "python",
   "pygments_lexer": "ipython3",
   "version": "3.12.3"
  }
 },
 "nbformat": 4,
 "nbformat_minor": 5
}
